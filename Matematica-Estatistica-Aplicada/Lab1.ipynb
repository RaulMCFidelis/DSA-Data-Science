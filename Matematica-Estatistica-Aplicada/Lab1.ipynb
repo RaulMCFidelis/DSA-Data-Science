{
 "cells": [
  {
   "cell_type": "markdown",
   "metadata": {},
   "source": [
    "Data Science Academy\n",
    "\n",
    "Matemática e Estatistica Aplicada Para Data Science, Machine Learning e IA\n",
    "\n",
    "Lab 1\n",
    "\n",
    "Representação Equações via Programação"
   ]
  },
  {
   "cell_type": "code",
   "execution_count": 2,
   "metadata": {},
   "outputs": [
    {
     "name": "stdout",
     "output_type": "stream",
     "text": [
      "Note: you may need to restart the kernel to use updated packages.\n"
     ]
    }
   ],
   "source": [
    "# Para atualizar um pacote, execute o comando abaixo no terminal ou prompt de comando:\n",
    "# pip install -U nome_pacote\n",
    "\n",
    "# Para instalar a versão exata de um pacote, execute o comando abaixo no terminal ou prompt de comando:\n",
    "# !pip install nome_pacote==versão_desejada\n",
    "\n",
    "# Depois de instalar ou atualizar o pacote, reinicie o jupyter notebook.\n",
    "\n",
    "# Instala o pacote watermark. \n",
    "# Esse pacote é usado para gravar as versões de outros pacotes usados neste jupyter notebook.\n",
    "# cmd !pip install -q -U watermark"
   ]
  },
  {
   "cell_type": "markdown",
   "metadata": {},
   "source": [
    "Números e Representações"
   ]
  },
  {
   "cell_type": "markdown",
   "metadata": {},
   "source": [
    "Na matemática, uma variedade de números e suas representações são usados para diferentes propósitos. Aqui está uma lista dos tipos mais comuns de números e suas representações:\n",
    "\n",
    "Números Naturais (N): São os números inteiros não-negativos. Incluem 0, 1, 2, 3, 4, ... Eles são usados para contar e ordenar.\n",
    "\n",
    "Números Inteiros (Z): Incluem todos os números naturais, seus opostos negativos e o zero. Portanto, são ..., -3, -2, -1, 0, 1, 2, 3, ...\n",
    "\n",
    "Números Racionais (Q): São os números que podem ser expressos como a fração de dois inteiros, onde o denominador não é zero. Incluem números como 1/2, -3/4, 5, 0.75, etc.\n",
    "\n",
    "Números Irracionais: São números que não podem ser expressos como uma fração simples de dois inteiros. Incluem números como π (pi) e √2. Esses números têm uma expansão decimal infinita não periódica.\n",
    "\n",
    "Números Reais (R): Incluem todos os números racionais e irracionais. Os números reais podem ser representados em uma linha numérica.\n",
    "\n",
    "Números Complexos (C): Incluem todos os números que podem ser expressos na forma a + bi, onde a e b são números reais e i é a unidade imaginária. A unidade imaginária é uma extensão dos números reais e foi criada para solucionar equações que não possuem soluções dentro do conjunto dos números reais. A unidade imaginária é representada pela letra i, que é definida como a raiz quadrada de −1.\n",
    "\n",
    "Números Primos: São números maiores que 1 que têm exatamente dois divisores distintos: 1 e eles mesmos. Exemplos incluem 2, 3, 5, 7, 11, ...\n",
    "\n",
    "Cada um desses tipos de números tem sua própria utilidade e aplicação em diferentes áreas da matemática e ciência."
   ]
  }
 ],
 "metadata": {
  "kernelspec": {
   "display_name": "base",
   "language": "python",
   "name": "python3"
  },
  "language_info": {
   "codemirror_mode": {
    "name": "ipython",
    "version": 3
   },
   "file_extension": ".py",
   "mimetype": "text/x-python",
   "name": "python",
   "nbconvert_exporter": "python",
   "pygments_lexer": "ipython3",
   "version": "3.11.5"
  }
 },
 "nbformat": 4,
 "nbformat_minor": 2
}
